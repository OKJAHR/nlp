{
 "cells": [
  {
   "cell_type": "markdown",
   "id": "aef0d069-60b9-43d4-9811-4f5fe341bba2",
   "metadata": {},
   "source": [
    "# Metin Sınıflandırma\n"
   ]
  },
  {
   "cell_type": "code",
   "execution_count": 3,
   "id": "3d08141f-1329-487e-8d1b-a211abc9a08e",
   "metadata": {},
   "outputs": [],
   "source": [
    "import pandas as pd\n",
    "import on_islem\n"
   ]
  },
  {
   "cell_type": "code",
   "execution_count": 4,
   "id": "8f7ae562-84d0-4a7f-a6a6-8db2478e0573",
   "metadata": {},
   "outputs": [
    {
     "data": {
      "text/html": [
       "<div>\n",
       "<style scoped>\n",
       "    .dataframe tbody tr th:only-of-type {\n",
       "        vertical-align: middle;\n",
       "    }\n",
       "\n",
       "    .dataframe tbody tr th {\n",
       "        vertical-align: top;\n",
       "    }\n",
       "\n",
       "    .dataframe thead th {\n",
       "        text-align: right;\n",
       "    }\n",
       "</style>\n",
       "<table border=\"1\" class=\"dataframe\">\n",
       "  <thead>\n",
       "    <tr style=\"text-align: right;\">\n",
       "      <th></th>\n",
       "      <th>Text</th>\n",
       "      <th>Label</th>\n",
       "      <th>Text_2</th>\n",
       "      <th>Text_3</th>\n",
       "    </tr>\n",
       "  </thead>\n",
       "  <tbody>\n",
       "    <tr>\n",
       "      <th>0</th>\n",
       "      <td>Allah'ım çıldıracağım. Yemin ederim çıldıracağ...</td>\n",
       "      <td>kızgın</td>\n",
       "      <td>[allah, çıldıracağım, ye, eder, çıldıracak, si...</td>\n",
       "      <td>allah çıldıracağım ye eder çıldıracak sinirimd...</td>\n",
       "    </tr>\n",
       "    <tr>\n",
       "      <th>1</th>\n",
       "      <td>site ne zaman çalıştıda ürün stokları bitti di...</td>\n",
       "      <td>kızgın</td>\n",
       "      <td>[si, zama, çalıştı, ür, stok, bit, diyor, mal,...</td>\n",
       "      <td>si zama çalıştı ür stok bit diyor mal mı oğl k...</td>\n",
       "    </tr>\n",
       "    <tr>\n",
       "      <th>2</th>\n",
       "      <td>Sebebi neydi ki diye bağıracağım şimdi az kaldı</td>\n",
       "      <td>kızgın</td>\n",
       "      <td>[sebep, di, bağıracak, ş, kal]</td>\n",
       "      <td>sebep di bağıracak ş kal</td>\n",
       "    </tr>\n",
       "    <tr>\n",
       "      <th>3</th>\n",
       "      <td>Black friday ne amk bu yıl çıkardınız bu bokud...</td>\n",
       "      <td>kızgın</td>\n",
       "      <td>[black, friday, amk, yıl, çıkar, boku, mal, mı...</td>\n",
       "      <td>black friday amk yıl çıkar boku mal mı nesiniz</td>\n",
       "    </tr>\n",
       "    <tr>\n",
       "      <th>4</th>\n",
       "      <td>kısa kısa cevaplar vericeksen niye yazıyorsun ...</td>\n",
       "      <td>kızgın</td>\n",
       "      <td>[kıs, kıs, cevap, vericek, ni, yazıyor, gerize...</td>\n",
       "      <td>kıs kıs cevap vericek ni yazıyor gerizekal</td>\n",
       "    </tr>\n",
       "  </tbody>\n",
       "</table>\n",
       "</div>"
      ],
      "text/plain": [
       "                                                Text   Label   \n",
       "0  Allah'ım çıldıracağım. Yemin ederim çıldıracağ...  kızgın  \\\n",
       "1  site ne zaman çalıştıda ürün stokları bitti di...  kızgın   \n",
       "2    Sebebi neydi ki diye bağıracağım şimdi az kaldı  kızgın   \n",
       "3  Black friday ne amk bu yıl çıkardınız bu bokud...  kızgın   \n",
       "4  kısa kısa cevaplar vericeksen niye yazıyorsun ...  kızgın   \n",
       "\n",
       "                                              Text_2   \n",
       "0  [allah, çıldıracağım, ye, eder, çıldıracak, si...  \\\n",
       "1  [si, zama, çalıştı, ür, stok, bit, diyor, mal,...   \n",
       "2                     [sebep, di, bağıracak, ş, kal]   \n",
       "3  [black, friday, amk, yıl, çıkar, boku, mal, mı...   \n",
       "4  [kıs, kıs, cevap, vericek, ni, yazıyor, gerize...   \n",
       "\n",
       "                                              Text_3  \n",
       "0  allah çıldıracağım ye eder çıldıracak sinirimd...  \n",
       "1  si zama çalıştı ür stok bit diyor mal mı oğl k...  \n",
       "2                           sebep di bağıracak ş kal  \n",
       "3     black friday amk yıl çıkar boku mal mı nesiniz  \n",
       "4         kıs kıs cevap vericek ni yazıyor gerizekal  "
      ]
     },
     "execution_count": 4,
     "metadata": {},
     "output_type": "execute_result"
    }
   ],
   "source": [
    "df = pd.read_csv(\"data/metin_siniflandirma-230518-122016.csv\",index_col=0)\n",
    "df[\"Text_2\"]=df[\"Text\"].apply(on_islem.pre_processing)\n",
    "df [\"Text_2\"] = df [\"Text_2\"].apply(on_islem. remove_space) \n",
    "df [\"Text_3\"] = [' '.join(wrd for wrd in x) for x in df[\"Text_2\"]]\n",
    "\n",
    "\n",
    "\n",
    "df_index = df [df [\"Text_2\"].str[0].isnull()].index\n",
    "df = df.drop(df_index)\n",
    "df = df.reset_index()\n",
    "del df [\"index\"]\n",
    "df.head()"
   ]
  },
  {
   "cell_type": "code",
   "execution_count": 5,
   "id": "d4365611-b71f-45bd-b4c1-58533a25e36b",
   "metadata": {},
   "outputs": [
    {
     "data": {
      "text/plain": [
       "Label\n",
       "korku      800\n",
       "kızgın     799\n",
       "mutlu      800\n",
       "surpriz    800\n",
       "üzgün      799\n",
       "dtype: int64"
      ]
     },
     "execution_count": 5,
     "metadata": {},
     "output_type": "execute_result"
    }
   ],
   "source": [
    "df.groupby(\"Label\").size()\n"
   ]
  },
  {
   "cell_type": "code",
   "execution_count": 6,
   "id": "54a451e2-73a7-40c6-aa17-f19dd697d4f2",
   "metadata": {},
   "outputs": [],
   "source": [
    "from sklearn.model_selection import train_test_split\n"
   ]
  },
  {
   "cell_type": "code",
   "execution_count": 7,
   "id": "de06343c-eadf-42e7-90ca-fc1e40213bbe",
   "metadata": {},
   "outputs": [],
   "source": [
    "msg_train,msg_test, label_train, label_test=train_test_split(df[\"Text_3\"].tolist(),df [\"Label\"].tolist(), test_size=0.2, random_state=42)"
   ]
  },
  {
   "cell_type": "code",
   "execution_count": 8,
   "id": "3b437067-61cd-4008-a942-1ead6864ff67",
   "metadata": {},
   "outputs": [
    {
     "data": {
      "text/plain": [
       "3198"
      ]
     },
     "execution_count": 8,
     "metadata": {},
     "output_type": "execute_result"
    }
   ],
   "source": [
    "len (msg_train)\n",
    "\n"
   ]
  },
  {
   "cell_type": "code",
   "execution_count": 9,
   "id": "dc10f18c-8110-45c3-893f-4731915b5791",
   "metadata": {},
   "outputs": [
    {
     "data": {
      "text/plain": [
       "800"
      ]
     },
     "execution_count": 9,
     "metadata": {},
     "output_type": "execute_result"
    }
   ],
   "source": [
    "len(msg_test)\n",
    "\n"
   ]
  },
  {
   "cell_type": "code",
   "execution_count": 10,
   "id": "4c31ba6e-c50e-4684-a20b-0eee3cc518bd",
   "metadata": {},
   "outputs": [
    {
     "data": {
      "text/plain": [
       "3198"
      ]
     },
     "execution_count": 10,
     "metadata": {},
     "output_type": "execute_result"
    }
   ],
   "source": [
    "len (label_train)\n",
    "\n",
    "\n",
    "\n"
   ]
  },
  {
   "cell_type": "code",
   "execution_count": 11,
   "id": "b78a875a-c0ad-40ad-b219-c845e36344ef",
   "metadata": {},
   "outputs": [
    {
     "data": {
      "text/plain": [
       "label\n",
       "korku      164\n",
       "kızgın     169\n",
       "mutlu      160\n",
       "surpriz    155\n",
       "üzgün      152\n",
       "dtype: int64"
      ]
     },
     "execution_count": 11,
     "metadata": {},
     "output_type": "execute_result"
    }
   ],
   "source": [
    "df_test = pd.DataFrame({\"text\": msg_test, 'label' : label_test}) \n",
    "df_test.groupby(\"label\").size()"
   ]
  },
  {
   "cell_type": "code",
   "execution_count": 12,
   "id": "377aef12-be93-47ba-9b6e-832c22bb5e43",
   "metadata": {},
   "outputs": [],
   "source": [
    "from sklearn.svm import LinearSVC\n",
    "from sklearn.pipeline import Pipeline\n",
    "from sklearn.feature_extraction.text import TfidfVectorizer\n"
   ]
  },
  {
   "cell_type": "code",
   "execution_count": 13,
   "id": "8bfce07b-d2a0-48f9-b17c-0fe66fb13e65",
   "metadata": {},
   "outputs": [],
   "source": [
    "svm = Pipeline([('vect', TfidfVectorizer()), ('svm', LinearSVC())])\n"
   ]
  },
  {
   "cell_type": "code",
   "execution_count": 14,
   "id": "c6de5e3e-60c3-4519-9e34-b9d0af96598a",
   "metadata": {},
   "outputs": [],
   "source": [
    "svm.fit(msg_train, label_train)\n",
    "y_pred_class = svm.predict(msg_test)"
   ]
  },
  {
   "cell_type": "code",
   "execution_count": 15,
   "id": "d63ab14b-8c5f-4ae2-b74d-a87ed196fd97",
   "metadata": {},
   "outputs": [],
   "source": [
    "from sklearn.metrics import f1_score, accuracy_score,confusion_matrix,ConfusionMatrixDisplay\n"
   ]
  },
  {
   "cell_type": "code",
   "execution_count": 16,
   "id": "2c47e01d-eb2b-48a6-9590-aeae950ad6e6",
   "metadata": {},
   "outputs": [
    {
     "name": "stdout",
     "output_type": "stream",
     "text": [
      "svm accuracy score 0.97875\n"
     ]
    }
   ],
   "source": [
    "print(\"svm accuracy score\", accuracy_score (label_test, y_pred_class))"
   ]
  },
  {
   "cell_type": "code",
   "execution_count": 17,
   "id": "aa224944-97cc-4d21-a030-5b10ba1bec27",
   "metadata": {},
   "outputs": [
    {
     "name": "stdout",
     "output_type": "stream",
     "text": [
      "svm f1 score : 0.9787445055608519\n"
     ]
    }
   ],
   "source": [
    "print(\"svm f1 score :\",f1_score(label_test,y_pred_class,average=\"weighted\"))"
   ]
  },
  {
   "cell_type": "code",
   "execution_count": 18,
   "id": "f1fca1e4-4115-40fb-b6e2-2cc156a5eebe",
   "metadata": {},
   "outputs": [
    {
     "data": {
      "text/plain": [
       "800"
      ]
     },
     "execution_count": 18,
     "metadata": {},
     "output_type": "execute_result"
    }
   ],
   "source": [
    "len(label_test)"
   ]
  },
  {
   "cell_type": "code",
   "execution_count": 19,
   "id": "25f7b600-070f-4127-bd52-845d5ef881b3",
   "metadata": {},
   "outputs": [
    {
     "data": {
      "text/plain": [
       "label\n",
       "korku      164\n",
       "kızgın     169\n",
       "mutlu      160\n",
       "surpriz    155\n",
       "üzgün      152\n",
       "dtype: int64"
      ]
     },
     "execution_count": 19,
     "metadata": {},
     "output_type": "execute_result"
    }
   ],
   "source": [
    "df_test.groupby(\"label\").size()\n"
   ]
  },
  {
   "cell_type": "code",
   "execution_count": 20,
   "id": "6835d79e-f280-457e-b2bf-68b463c686d9",
   "metadata": {},
   "outputs": [
    {
     "name": "stdout",
     "output_type": "stream",
     "text": [
      "Requirement already satisfied: matplotlib in /Applications/miniconda3/lib/python3.10/site-packages (3.7.1)\n",
      "Requirement already satisfied: kiwisolver>=1.0.1 in /Applications/miniconda3/lib/python3.10/site-packages (from matplotlib) (1.4.4)\n",
      "Requirement already satisfied: packaging>=20.0 in /Applications/miniconda3/lib/python3.10/site-packages (from matplotlib) (23.0)\n",
      "Requirement already satisfied: pyparsing>=2.3.1 in /Applications/miniconda3/lib/python3.10/site-packages (from matplotlib) (3.0.9)\n",
      "Requirement already satisfied: contourpy>=1.0.1 in /Applications/miniconda3/lib/python3.10/site-packages (from matplotlib) (1.0.7)\n",
      "Requirement already satisfied: pillow>=6.2.0 in /Applications/miniconda3/lib/python3.10/site-packages (from matplotlib) (9.5.0)\n",
      "Requirement already satisfied: python-dateutil>=2.7 in /Applications/miniconda3/lib/python3.10/site-packages (from matplotlib) (2.8.2)\n",
      "Requirement already satisfied: fonttools>=4.22.0 in /Applications/miniconda3/lib/python3.10/site-packages (from matplotlib) (4.39.4)\n",
      "Requirement already satisfied: numpy>=1.20 in /Applications/miniconda3/lib/python3.10/site-packages (from matplotlib) (1.24.3)\n",
      "Requirement already satisfied: cycler>=0.10 in /Applications/miniconda3/lib/python3.10/site-packages (from matplotlib) (0.11.0)\n",
      "Requirement already satisfied: six>=1.5 in /Applications/miniconda3/lib/python3.10/site-packages (from python-dateutil>=2.7->matplotlib) (1.16.0)\n",
      "Note: you may need to restart the kernel to use updated packages.\n"
     ]
    }
   ],
   "source": [
    "pip install matplotlib"
   ]
  },
  {
   "cell_type": "code",
   "execution_count": 21,
   "id": "9fe41938-de44-4f39-9d5f-82bc49c83bc6",
   "metadata": {},
   "outputs": [
    {
     "data": {
      "text/plain": [
       "<sklearn.metrics._plot.confusion_matrix.ConfusionMatrixDisplay at 0x150e959f0>"
      ]
     },
     "execution_count": 21,
     "metadata": {},
     "output_type": "execute_result"
    },
    {
     "data": {
      "image/png": "[encoded data removed]",
      "text/plain": [
       "<Figure size 640x480 with 2 Axes>"
      ]
     },
     "metadata": {},
     "output_type": "display_data"
    }
   ],
   "source": [
    "cm=confusion_matrix(label_test,y_pred_class, labels=svm.classes_)\n",
    "disp= ConfusionMatrixDisplay(confusion_matrix=cm,display_labels=svm.classes_) \n",
    "disp.plot()"
   ]
  },
  {
   "cell_type": "code",
   "execution_count": 22,
   "id": "0e90669c-8a18-42c9-961f-dd912dc448fa",
   "metadata": {},
   "outputs": [
    {
     "data": {
      "text/plain": [
       "array(['üzgün'], dtype='<U7')"
      ]
     },
     "execution_count": 22,
     "metadata": {},
     "output_type": "execute_result"
    }
   ],
   "source": [
    "# örnek veri testi \n",
    "\n",
    "msg_test_2=[\"Ben biraz kötü gibiyim\"]\n",
    "y_pred_class=svm.predict(msg_test_2)\n",
    "y_pred_class"
   ]
  },
  {
   "cell_type": "code",
   "execution_count": 23,
   "id": "4fcd4bf7-19a7-4f36-a2e3-756b2324e66e",
   "metadata": {},
   "outputs": [],
   "source": [
    "from gensim.models import Word2Vec\n",
    "\n",
    "model=Word2Vec.load(\"data/word2vec.model\")\n",
    "model.build_vocab(df[\"Text_2\"].tolist(),update=True)\n",
    "model.save(\"data/word2vec.model\")"
   ]
  },
  {
   "cell_type": "code",
   "execution_count": null,
   "id": "4dd1e564-1002-4df0-8edb-5659b8cd4dcc",
   "metadata": {},
   "outputs": [],
   "source": [
    "df[\"word2vec\"]=df[\"Text_2\"].apply(on_islem.word2vec)\n",
    "df.head()"
   ]
  },
  {
   "cell_type": "code",
   "execution_count": null,
   "id": "27b7ef55-71d1-41f1-98b5-d39669ae2a1f",
   "metadata": {},
   "outputs": [],
   "source": [
    "msg_train, msg_test, label_train, label_test = train_test_split(df[\"word2vec\"].tolist(),df [\"Label\"].tolist(), test_size=0.2, random_state=42) \n",
    "svm=Pipeline([('svm', LinearSVC())]) \n",
    "svm.fit(msg_train, label_train)\n",
    "y_pred_class = svm.predict(msg_test)\n",
    "print(\"svm accuracy score :\", accuracy_score (label_test,y_pred_class))\n",
    "print(\"svm f1 score\",f1_score (label_test, y_pred_class, average=\"weighted\"))"
   ]
  },
  {
   "cell_type": "code",
   "execution_count": null,
   "id": "4d8891b6-1ef6-4485-be73-d4611bf420fa",
   "metadata": {},
   "outputs": [],
   "source": [
    "cm=confusion_matrix(label_test,y_pred_class, labels=svm.classes_)\n",
    "disp= ConfusionMatrixDisplay(confusion_matrix=cm,display_labels=svm.classes_) \n",
    "disp.plot()"
   ]
  },
  {
   "cell_type": "code",
   "execution_count": null,
   "id": "c58cb061-792d-41e1-92c0-a58ff3e9bb8b",
   "metadata": {},
   "outputs": [],
   "source": [
    "from sklearn.neighbors import KNeighborsClassifier\n",
    "\n",
    "\n",
    "msg_train, msg_test, label_train, label_test=train_test_split(df[\"Text_3\"].tolist(), df [\"Label\"].tolist(), test_size=0.2, random_state=42) \n",
    "knn= Pipeline ([('vect', TfidfVectorizer()), ('knn',KNeighborsClassifier())]) \n",
    "knn.fit(msg_train, label_train)\n",
    "y_pred_class = knn.predict(msg_test)\n",
    "\n",
    "\n",
    "\n",
    "print(\"knn accuracy score:\", accuracy_score (label_test, y_pred_class))\n",
    "print(\"knn f1 score:\", f1_score (label_test, y_pred_class, average=\"weighted\"))"
   ]
  },
  {
   "cell_type": "code",
   "execution_count": null,
   "id": "ecac58cc-7fd4-42b2-bdef-360145a342f9",
   "metadata": {},
   "outputs": [],
   "source": [
    "len(msg_test)"
   ]
  },
  {
   "cell_type": "code",
   "execution_count": null,
   "id": "f1fe3f43-6933-4539-866e-ea2c585f6e03",
   "metadata": {},
   "outputs": [],
   "source": [
    "800*0.79"
   ]
  },
  {
   "cell_type": "code",
   "execution_count": null,
   "id": "7ed9be56-0c05-4569-b523-7c0e601349b8",
   "metadata": {},
   "outputs": [],
   "source": [
    "cm=confusion_matrix(label_test,y_pred_class, labels=svm.classes_)\n",
    "disp= ConfusionMatrixDisplay(confusion_matrix=cm,display_labels=svm.classes_) \n",
    "disp.plot()"
   ]
  },
  {
   "cell_type": "code",
   "execution_count": null,
   "id": "9c7d2da5-6aac-4b73-b489-d0f93fe70223",
   "metadata": {},
   "outputs": [],
   "source": []
  }
 ],
 "metadata": {
  "kernelspec": {
   "display_name": "Python 3 (ipykernel)",
   "language": "python",
   "name": "python3"
  },
  "language_info": {
   "codemirror_mode": {
    "name": "ipython",
    "version": 3
   },
   "file_extension": ".py",
   "mimetype": "text/x-python",
   "name": "python",
   "nbconvert_exporter": "python",
   "pygments_lexer": "ipython3",
   "version": "3.10.10"
  }
 },
 "nbformat": 4,
 "nbformat_minor": 5
}
